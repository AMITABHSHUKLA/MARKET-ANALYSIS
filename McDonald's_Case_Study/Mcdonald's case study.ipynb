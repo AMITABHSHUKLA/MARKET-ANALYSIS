{
 "cells": [
  {
   "cell_type": "code",
   "execution_count": 23,
   "id": "4db6f7f1",
   "metadata": {},
   "outputs": [],
   "source": [
    "import numpy as np\n",
    "import pandas as pd \n",
    "import matplotlib.pyplot as plt\n",
    "import random"
   ]
  },
  {
   "cell_type": "code",
   "execution_count": 24,
   "id": "605b8b4f",
   "metadata": {},
   "outputs": [],
   "source": [
    "mc_dataset = pd.read_csv(\"mcdonalds.csv\")"
   ]
  },
  {
   "cell_type": "code",
   "execution_count": 25,
   "id": "e2508fa4",
   "metadata": {},
   "outputs": [
    {
     "data": {
      "text/plain": [
       "21795"
      ]
     },
     "execution_count": 25,
     "metadata": {},
     "output_type": "execute_result"
    }
   ],
   "source": [
    "mc_dataset.size"
   ]
  },
  {
   "cell_type": "code",
   "execution_count": 26,
   "id": "bd149605",
   "metadata": {},
   "outputs": [
    {
     "data": {
      "text/plain": [
       "(1453, 15)"
      ]
     },
     "execution_count": 26,
     "metadata": {},
     "output_type": "execute_result"
    }
   ],
   "source": [
    "mc_dataset.shape"
   ]
  },
  {
   "cell_type": "code",
   "execution_count": 27,
   "id": "2064e1f0",
   "metadata": {},
   "outputs": [
    {
     "data": {
      "text/html": [
       "<div>\n",
       "<style scoped>\n",
       "    .dataframe tbody tr th:only-of-type {\n",
       "        vertical-align: middle;\n",
       "    }\n",
       "\n",
       "    .dataframe tbody tr th {\n",
       "        vertical-align: top;\n",
       "    }\n",
       "\n",
       "    .dataframe thead th {\n",
       "        text-align: right;\n",
       "    }\n",
       "</style>\n",
       "<table border=\"1\" class=\"dataframe\">\n",
       "  <thead>\n",
       "    <tr style=\"text-align: right;\">\n",
       "      <th></th>\n",
       "      <th>yummy</th>\n",
       "      <th>convenient</th>\n",
       "      <th>spicy</th>\n",
       "      <th>fattening</th>\n",
       "      <th>greasy</th>\n",
       "      <th>fast</th>\n",
       "      <th>cheap</th>\n",
       "      <th>tasty</th>\n",
       "      <th>expensive</th>\n",
       "      <th>healthy</th>\n",
       "      <th>disgusting</th>\n",
       "      <th>Like</th>\n",
       "      <th>Age</th>\n",
       "      <th>VisitFrequency</th>\n",
       "      <th>Gender</th>\n",
       "    </tr>\n",
       "  </thead>\n",
       "  <tbody>\n",
       "    <tr>\n",
       "      <th>0</th>\n",
       "      <td>No</td>\n",
       "      <td>Yes</td>\n",
       "      <td>No</td>\n",
       "      <td>Yes</td>\n",
       "      <td>No</td>\n",
       "      <td>Yes</td>\n",
       "      <td>Yes</td>\n",
       "      <td>No</td>\n",
       "      <td>Yes</td>\n",
       "      <td>No</td>\n",
       "      <td>No</td>\n",
       "      <td>-3</td>\n",
       "      <td>61</td>\n",
       "      <td>Every three months</td>\n",
       "      <td>Female</td>\n",
       "    </tr>\n",
       "    <tr>\n",
       "      <th>1</th>\n",
       "      <td>Yes</td>\n",
       "      <td>Yes</td>\n",
       "      <td>No</td>\n",
       "      <td>Yes</td>\n",
       "      <td>Yes</td>\n",
       "      <td>Yes</td>\n",
       "      <td>Yes</td>\n",
       "      <td>Yes</td>\n",
       "      <td>Yes</td>\n",
       "      <td>No</td>\n",
       "      <td>No</td>\n",
       "      <td>+2</td>\n",
       "      <td>51</td>\n",
       "      <td>Every three months</td>\n",
       "      <td>Female</td>\n",
       "    </tr>\n",
       "    <tr>\n",
       "      <th>2</th>\n",
       "      <td>No</td>\n",
       "      <td>Yes</td>\n",
       "      <td>Yes</td>\n",
       "      <td>Yes</td>\n",
       "      <td>Yes</td>\n",
       "      <td>Yes</td>\n",
       "      <td>No</td>\n",
       "      <td>Yes</td>\n",
       "      <td>Yes</td>\n",
       "      <td>Yes</td>\n",
       "      <td>No</td>\n",
       "      <td>+1</td>\n",
       "      <td>62</td>\n",
       "      <td>Every three months</td>\n",
       "      <td>Female</td>\n",
       "    </tr>\n",
       "    <tr>\n",
       "      <th>3</th>\n",
       "      <td>Yes</td>\n",
       "      <td>Yes</td>\n",
       "      <td>No</td>\n",
       "      <td>Yes</td>\n",
       "      <td>Yes</td>\n",
       "      <td>Yes</td>\n",
       "      <td>Yes</td>\n",
       "      <td>Yes</td>\n",
       "      <td>No</td>\n",
       "      <td>No</td>\n",
       "      <td>Yes</td>\n",
       "      <td>+4</td>\n",
       "      <td>69</td>\n",
       "      <td>Once a week</td>\n",
       "      <td>Female</td>\n",
       "    </tr>\n",
       "    <tr>\n",
       "      <th>4</th>\n",
       "      <td>No</td>\n",
       "      <td>Yes</td>\n",
       "      <td>No</td>\n",
       "      <td>Yes</td>\n",
       "      <td>Yes</td>\n",
       "      <td>Yes</td>\n",
       "      <td>Yes</td>\n",
       "      <td>No</td>\n",
       "      <td>No</td>\n",
       "      <td>Yes</td>\n",
       "      <td>No</td>\n",
       "      <td>+2</td>\n",
       "      <td>49</td>\n",
       "      <td>Once a month</td>\n",
       "      <td>Male</td>\n",
       "    </tr>\n",
       "  </tbody>\n",
       "</table>\n",
       "</div>"
      ],
      "text/plain": [
       "  yummy convenient spicy fattening greasy fast cheap tasty expensive healthy  \\\n",
       "0    No        Yes    No       Yes     No  Yes   Yes    No       Yes      No   \n",
       "1   Yes        Yes    No       Yes    Yes  Yes   Yes   Yes       Yes      No   \n",
       "2    No        Yes   Yes       Yes    Yes  Yes    No   Yes       Yes     Yes   \n",
       "3   Yes        Yes    No       Yes    Yes  Yes   Yes   Yes        No      No   \n",
       "4    No        Yes    No       Yes    Yes  Yes   Yes    No        No     Yes   \n",
       "\n",
       "  disgusting Like  Age      VisitFrequency  Gender  \n",
       "0         No   -3   61  Every three months  Female  \n",
       "1         No   +2   51  Every three months  Female  \n",
       "2         No   +1   62  Every three months  Female  \n",
       "3        Yes   +4   69         Once a week  Female  \n",
       "4         No   +2   49        Once a month    Male  "
      ]
     },
     "execution_count": 27,
     "metadata": {},
     "output_type": "execute_result"
    }
   ],
   "source": [
    "mc_dataset.head()"
   ]
  },
  {
   "cell_type": "code",
   "execution_count": 28,
   "id": "f4246aa9",
   "metadata": {},
   "outputs": [
    {
     "data": {
      "text/plain": [
       "['yummy',\n",
       " 'convenient',\n",
       " 'spicy',\n",
       " 'fattening',\n",
       " 'greasy',\n",
       " 'fast',\n",
       " 'cheap',\n",
       " 'tasty',\n",
       " 'expensive',\n",
       " 'healthy',\n",
       " 'disgusting',\n",
       " 'Like',\n",
       " 'Age',\n",
       " 'VisitFrequency',\n",
       " 'Gender']"
      ]
     },
     "execution_count": 28,
     "metadata": {},
     "output_type": "execute_result"
    }
   ],
   "source": [
    "list(mc_dataset)"
   ]
  },
  {
   "cell_type": "code",
   "execution_count": 29,
   "id": "2db172d0",
   "metadata": {},
   "outputs": [],
   "source": [
    "x = mc_dataset.iloc[:,:11]"
   ]
  },
  {
   "cell_type": "code",
   "execution_count": 30,
   "id": "02d55f44",
   "metadata": {},
   "outputs": [],
   "source": [
    "y = x.iloc[:,0]"
   ]
  },
  {
   "cell_type": "code",
   "execution_count": 31,
   "id": "ba4393a3",
   "metadata": {},
   "outputs": [],
   "source": [
    "from sklearn.preprocessing import LabelEncoder\n",
    "\n",
    "le = LabelEncoder()\n",
    "y = x.apply(le.fit_transform)"
   ]
  },
  {
   "cell_type": "code",
   "execution_count": 32,
   "id": "383cc9f5",
   "metadata": {},
   "outputs": [
    {
     "data": {
      "text/html": [
       "<div>\n",
       "<style scoped>\n",
       "    .dataframe tbody tr th:only-of-type {\n",
       "        vertical-align: middle;\n",
       "    }\n",
       "\n",
       "    .dataframe tbody tr th {\n",
       "        vertical-align: top;\n",
       "    }\n",
       "\n",
       "    .dataframe thead th {\n",
       "        text-align: right;\n",
       "    }\n",
       "</style>\n",
       "<table border=\"1\" class=\"dataframe\">\n",
       "  <thead>\n",
       "    <tr style=\"text-align: right;\">\n",
       "      <th></th>\n",
       "      <th>yummy</th>\n",
       "      <th>convenient</th>\n",
       "      <th>spicy</th>\n",
       "      <th>fattening</th>\n",
       "      <th>greasy</th>\n",
       "      <th>fast</th>\n",
       "      <th>cheap</th>\n",
       "      <th>tasty</th>\n",
       "      <th>expensive</th>\n",
       "      <th>healthy</th>\n",
       "      <th>disgusting</th>\n",
       "    </tr>\n",
       "  </thead>\n",
       "  <tbody>\n",
       "    <tr>\n",
       "      <th>0</th>\n",
       "      <td>0</td>\n",
       "      <td>1</td>\n",
       "      <td>0</td>\n",
       "      <td>1</td>\n",
       "      <td>0</td>\n",
       "      <td>1</td>\n",
       "      <td>1</td>\n",
       "      <td>0</td>\n",
       "      <td>1</td>\n",
       "      <td>0</td>\n",
       "      <td>0</td>\n",
       "    </tr>\n",
       "    <tr>\n",
       "      <th>1</th>\n",
       "      <td>1</td>\n",
       "      <td>1</td>\n",
       "      <td>0</td>\n",
       "      <td>1</td>\n",
       "      <td>1</td>\n",
       "      <td>1</td>\n",
       "      <td>1</td>\n",
       "      <td>1</td>\n",
       "      <td>1</td>\n",
       "      <td>0</td>\n",
       "      <td>0</td>\n",
       "    </tr>\n",
       "    <tr>\n",
       "      <th>2</th>\n",
       "      <td>0</td>\n",
       "      <td>1</td>\n",
       "      <td>1</td>\n",
       "      <td>1</td>\n",
       "      <td>1</td>\n",
       "      <td>1</td>\n",
       "      <td>0</td>\n",
       "      <td>1</td>\n",
       "      <td>1</td>\n",
       "      <td>1</td>\n",
       "      <td>0</td>\n",
       "    </tr>\n",
       "    <tr>\n",
       "      <th>3</th>\n",
       "      <td>1</td>\n",
       "      <td>1</td>\n",
       "      <td>0</td>\n",
       "      <td>1</td>\n",
       "      <td>1</td>\n",
       "      <td>1</td>\n",
       "      <td>1</td>\n",
       "      <td>1</td>\n",
       "      <td>0</td>\n",
       "      <td>0</td>\n",
       "      <td>1</td>\n",
       "    </tr>\n",
       "    <tr>\n",
       "      <th>4</th>\n",
       "      <td>0</td>\n",
       "      <td>1</td>\n",
       "      <td>0</td>\n",
       "      <td>1</td>\n",
       "      <td>1</td>\n",
       "      <td>1</td>\n",
       "      <td>1</td>\n",
       "      <td>0</td>\n",
       "      <td>0</td>\n",
       "      <td>1</td>\n",
       "      <td>0</td>\n",
       "    </tr>\n",
       "  </tbody>\n",
       "</table>\n",
       "</div>"
      ],
      "text/plain": [
       "   yummy  convenient  spicy  fattening  greasy  fast  cheap  tasty  expensive  \\\n",
       "0      0           1      0          1       0     1      1      0          1   \n",
       "1      1           1      0          1       1     1      1      1          1   \n",
       "2      0           1      1          1       1     1      0      1          1   \n",
       "3      1           1      0          1       1     1      1      1          0   \n",
       "4      0           1      0          1       1     1      1      0          0   \n",
       "\n",
       "   healthy  disgusting  \n",
       "0        0           0  \n",
       "1        0           0  \n",
       "2        1           0  \n",
       "3        0           1  \n",
       "4        1           0  "
      ]
     },
     "execution_count": 32,
     "metadata": {},
     "output_type": "execute_result"
    }
   ],
   "source": [
    "y.head()"
   ]
  },
  {
   "cell_type": "code",
   "execution_count": 33,
   "id": "5b5eb40b",
   "metadata": {},
   "outputs": [
    {
     "data": {
      "text/plain": [
       "yummy         0.552650\n",
       "convenient    0.907777\n",
       "spicy         0.093599\n",
       "fattening     0.867171\n",
       "greasy        0.526497\n",
       "fast          0.900206\n",
       "cheap         0.598761\n",
       "tasty         0.644184\n",
       "expensive     0.357880\n",
       "healthy       0.198899\n",
       "disgusting    0.242946\n",
       "dtype: float64"
      ]
     },
     "execution_count": 33,
     "metadata": {},
     "output_type": "execute_result"
    }
   ],
   "source": [
    "y.mean()"
   ]
  },
  {
   "cell_type": "code",
   "execution_count": 34,
   "id": "feeb1225",
   "metadata": {},
   "outputs": [
    {
     "data": {
      "text/html": [
       "<div>\n",
       "<style scoped>\n",
       "    .dataframe tbody tr th:only-of-type {\n",
       "        vertical-align: middle;\n",
       "    }\n",
       "\n",
       "    .dataframe tbody tr th {\n",
       "        vertical-align: top;\n",
       "    }\n",
       "\n",
       "    .dataframe thead th {\n",
       "        text-align: right;\n",
       "    }\n",
       "</style>\n",
       "<table border=\"1\" class=\"dataframe\">\n",
       "  <thead>\n",
       "    <tr style=\"text-align: right;\">\n",
       "      <th></th>\n",
       "      <th>yummy</th>\n",
       "      <th>convenient</th>\n",
       "      <th>spicy</th>\n",
       "      <th>fattening</th>\n",
       "      <th>greasy</th>\n",
       "      <th>fast</th>\n",
       "      <th>cheap</th>\n",
       "      <th>tasty</th>\n",
       "      <th>expensive</th>\n",
       "      <th>healthy</th>\n",
       "      <th>disgusting</th>\n",
       "    </tr>\n",
       "  </thead>\n",
       "  <tbody>\n",
       "    <tr>\n",
       "      <th>count</th>\n",
       "      <td>1453.000000</td>\n",
       "      <td>1453.000000</td>\n",
       "      <td>1453.000000</td>\n",
       "      <td>1453.000000</td>\n",
       "      <td>1453.000000</td>\n",
       "      <td>1453.000000</td>\n",
       "      <td>1453.000000</td>\n",
       "      <td>1453.000000</td>\n",
       "      <td>1453.000000</td>\n",
       "      <td>1453.000000</td>\n",
       "      <td>1453.000000</td>\n",
       "    </tr>\n",
       "    <tr>\n",
       "      <th>mean</th>\n",
       "      <td>0.552650</td>\n",
       "      <td>0.907777</td>\n",
       "      <td>0.093599</td>\n",
       "      <td>0.867171</td>\n",
       "      <td>0.526497</td>\n",
       "      <td>0.900206</td>\n",
       "      <td>0.598761</td>\n",
       "      <td>0.644184</td>\n",
       "      <td>0.357880</td>\n",
       "      <td>0.198899</td>\n",
       "      <td>0.242946</td>\n",
       "    </tr>\n",
       "    <tr>\n",
       "      <th>std</th>\n",
       "      <td>0.497391</td>\n",
       "      <td>0.289440</td>\n",
       "      <td>0.291371</td>\n",
       "      <td>0.339506</td>\n",
       "      <td>0.499469</td>\n",
       "      <td>0.299828</td>\n",
       "      <td>0.490318</td>\n",
       "      <td>0.478925</td>\n",
       "      <td>0.479542</td>\n",
       "      <td>0.399309</td>\n",
       "      <td>0.429010</td>\n",
       "    </tr>\n",
       "    <tr>\n",
       "      <th>min</th>\n",
       "      <td>0.000000</td>\n",
       "      <td>0.000000</td>\n",
       "      <td>0.000000</td>\n",
       "      <td>0.000000</td>\n",
       "      <td>0.000000</td>\n",
       "      <td>0.000000</td>\n",
       "      <td>0.000000</td>\n",
       "      <td>0.000000</td>\n",
       "      <td>0.000000</td>\n",
       "      <td>0.000000</td>\n",
       "      <td>0.000000</td>\n",
       "    </tr>\n",
       "    <tr>\n",
       "      <th>25%</th>\n",
       "      <td>0.000000</td>\n",
       "      <td>1.000000</td>\n",
       "      <td>0.000000</td>\n",
       "      <td>1.000000</td>\n",
       "      <td>0.000000</td>\n",
       "      <td>1.000000</td>\n",
       "      <td>0.000000</td>\n",
       "      <td>0.000000</td>\n",
       "      <td>0.000000</td>\n",
       "      <td>0.000000</td>\n",
       "      <td>0.000000</td>\n",
       "    </tr>\n",
       "    <tr>\n",
       "      <th>50%</th>\n",
       "      <td>1.000000</td>\n",
       "      <td>1.000000</td>\n",
       "      <td>0.000000</td>\n",
       "      <td>1.000000</td>\n",
       "      <td>1.000000</td>\n",
       "      <td>1.000000</td>\n",
       "      <td>1.000000</td>\n",
       "      <td>1.000000</td>\n",
       "      <td>0.000000</td>\n",
       "      <td>0.000000</td>\n",
       "      <td>0.000000</td>\n",
       "    </tr>\n",
       "    <tr>\n",
       "      <th>75%</th>\n",
       "      <td>1.000000</td>\n",
       "      <td>1.000000</td>\n",
       "      <td>0.000000</td>\n",
       "      <td>1.000000</td>\n",
       "      <td>1.000000</td>\n",
       "      <td>1.000000</td>\n",
       "      <td>1.000000</td>\n",
       "      <td>1.000000</td>\n",
       "      <td>1.000000</td>\n",
       "      <td>0.000000</td>\n",
       "      <td>0.000000</td>\n",
       "    </tr>\n",
       "    <tr>\n",
       "      <th>max</th>\n",
       "      <td>1.000000</td>\n",
       "      <td>1.000000</td>\n",
       "      <td>1.000000</td>\n",
       "      <td>1.000000</td>\n",
       "      <td>1.000000</td>\n",
       "      <td>1.000000</td>\n",
       "      <td>1.000000</td>\n",
       "      <td>1.000000</td>\n",
       "      <td>1.000000</td>\n",
       "      <td>1.000000</td>\n",
       "      <td>1.000000</td>\n",
       "    </tr>\n",
       "  </tbody>\n",
       "</table>\n",
       "</div>"
      ],
      "text/plain": [
       "             yummy   convenient        spicy    fattening       greasy  \\\n",
       "count  1453.000000  1453.000000  1453.000000  1453.000000  1453.000000   \n",
       "mean      0.552650     0.907777     0.093599     0.867171     0.526497   \n",
       "std       0.497391     0.289440     0.291371     0.339506     0.499469   \n",
       "min       0.000000     0.000000     0.000000     0.000000     0.000000   \n",
       "25%       0.000000     1.000000     0.000000     1.000000     0.000000   \n",
       "50%       1.000000     1.000000     0.000000     1.000000     1.000000   \n",
       "75%       1.000000     1.000000     0.000000     1.000000     1.000000   \n",
       "max       1.000000     1.000000     1.000000     1.000000     1.000000   \n",
       "\n",
       "              fast        cheap        tasty    expensive      healthy  \\\n",
       "count  1453.000000  1453.000000  1453.000000  1453.000000  1453.000000   \n",
       "mean      0.900206     0.598761     0.644184     0.357880     0.198899   \n",
       "std       0.299828     0.490318     0.478925     0.479542     0.399309   \n",
       "min       0.000000     0.000000     0.000000     0.000000     0.000000   \n",
       "25%       1.000000     0.000000     0.000000     0.000000     0.000000   \n",
       "50%       1.000000     1.000000     1.000000     0.000000     0.000000   \n",
       "75%       1.000000     1.000000     1.000000     1.000000     0.000000   \n",
       "max       1.000000     1.000000     1.000000     1.000000     1.000000   \n",
       "\n",
       "        disgusting  \n",
       "count  1453.000000  \n",
       "mean      0.242946  \n",
       "std       0.429010  \n",
       "min       0.000000  \n",
       "25%       0.000000  \n",
       "50%       0.000000  \n",
       "75%       0.000000  \n",
       "max       1.000000  "
      ]
     },
     "execution_count": 34,
     "metadata": {},
     "output_type": "execute_result"
    }
   ],
   "source": [
    "y.describe()"
   ]
  },
  {
   "cell_type": "code",
   "execution_count": 35,
   "id": "9ea18409",
   "metadata": {},
   "outputs": [],
   "source": [
    "from sklearn.decomposition import PCA\n",
    "\n",
    "pca = PCA(n_components=2)\n",
    "\n",
    "pca_y = pca.fit_transform(y)"
   ]
  },
  {
   "cell_type": "code",
   "execution_count": 36,
   "id": "0a487c2b",
   "metadata": {},
   "outputs": [],
   "source": [
    "from sklearn.decomposition import PCA\n",
    "\n",
    "pca = PCA(n_components=2)\n",
    "\n",
    "pca_y = pca.fit_transform(y)"
   ]
  },
  {
   "cell_type": "code",
   "execution_count": 37,
   "id": "876d82f2",
   "metadata": {},
   "outputs": [
    {
     "name": "stdout",
     "output_type": "stream",
     "text": [
      "[0.29944723 0.19279721]\n"
     ]
    }
   ],
   "source": [
    "print(pca.explained_variance_ratio_)"
   ]
  },
  {
   "cell_type": "code",
   "execution_count": 38,
   "id": "0990837a",
   "metadata": {},
   "outputs": [
    {
     "data": {
      "text/html": [
       "<div>\n",
       "<style scoped>\n",
       "    .dataframe tbody tr th:only-of-type {\n",
       "        vertical-align: middle;\n",
       "    }\n",
       "\n",
       "    .dataframe tbody tr th {\n",
       "        vertical-align: top;\n",
       "    }\n",
       "\n",
       "    .dataframe thead th {\n",
       "        text-align: right;\n",
       "    }\n",
       "</style>\n",
       "<table border=\"1\" class=\"dataframe\">\n",
       "  <thead>\n",
       "    <tr style=\"text-align: right;\">\n",
       "      <th></th>\n",
       "      <th>0</th>\n",
       "      <th>1</th>\n",
       "    </tr>\n",
       "  </thead>\n",
       "  <tbody>\n",
       "    <tr>\n",
       "      <th>0</th>\n",
       "      <td>0.425367</td>\n",
       "      <td>-0.219079</td>\n",
       "    </tr>\n",
       "    <tr>\n",
       "      <th>1</th>\n",
       "      <td>-0.218638</td>\n",
       "      <td>0.388190</td>\n",
       "    </tr>\n",
       "    <tr>\n",
       "      <th>2</th>\n",
       "      <td>0.375415</td>\n",
       "      <td>0.730435</td>\n",
       "    </tr>\n",
       "    <tr>\n",
       "      <th>3</th>\n",
       "      <td>-0.172926</td>\n",
       "      <td>-0.352752</td>\n",
       "    </tr>\n",
       "    <tr>\n",
       "      <th>4</th>\n",
       "      <td>0.187057</td>\n",
       "      <td>-0.807610</td>\n",
       "    </tr>\n",
       "  </tbody>\n",
       "</table>\n",
       "</div>"
      ],
      "text/plain": [
       "          0         1\n",
       "0  0.425367 -0.219079\n",
       "1 -0.218638  0.388190\n",
       "2  0.375415  0.730435\n",
       "3 -0.172926 -0.352752\n",
       "4  0.187057 -0.807610"
      ]
     },
     "execution_count": 38,
     "metadata": {},
     "output_type": "execute_result"
    }
   ],
   "source": [
    "pca_y = pd.DataFrame(pca_y)\n",
    "pca_y.head()"
   ]
  },
  {
   "cell_type": "code",
   "execution_count": 39,
   "id": "a566c3e8",
   "metadata": {},
   "outputs": [],
   "source": [
    "#using k-means"
   ]
  },
  {
   "cell_type": "code",
   "execution_count": 40,
   "id": "f85c7eb1",
   "metadata": {},
   "outputs": [
    {
     "name": "stderr",
     "output_type": "stream",
     "text": [
      "C:\\Users\\Lenovo\\anaconda3\\lib\\site-packages\\sklearn\\cluster\\_kmeans.py:881: UserWarning: KMeans is known to have a memory leak on Windows with MKL, when there are less chunks than available threads. You can avoid it by setting the environment variable OMP_NUM_THREADS=6.\n",
      "  warnings.warn(\n"
     ]
    }
   ],
   "source": [
    "from sklearn.cluster import KMeans\n",
    "\n",
    "wcss = []\n",
    "\n",
    "for i in range(1,10):\n",
    "    \n",
    "    kmeans = KMeans(n_clusters = i, init =\"k-means++\",random_state = 42)\n",
    "    kmeans.fit(pca_y)\n",
    "    \n",
    "    wcss.append(kmeans.inertia_)\n",
    "    "
   ]
  },
  {
   "cell_type": "code",
   "execution_count": 41,
   "id": "bf81342f",
   "metadata": {},
   "outputs": [],
   "source": [
    "#plot the elbow graph"
   ]
  },
  {
   "cell_type": "code",
   "execution_count": 42,
   "id": "ec8d4992",
   "metadata": {},
   "outputs": [
    {
     "ename": "AttributeError",
     "evalue": "module 'matplotlib.pyplot' has no attribute 'ylable'",
     "output_type": "error",
     "traceback": [
      "\u001b[1;31m---------------------------------------------------------------------------\u001b[0m",
      "\u001b[1;31mAttributeError\u001b[0m                            Traceback (most recent call last)",
      "\u001b[1;32m<ipython-input-42-38ad557ef7a5>\u001b[0m in \u001b[0;36m<module>\u001b[1;34m\u001b[0m\n\u001b[0;32m      2\u001b[0m \u001b[0mplt\u001b[0m\u001b[1;33m.\u001b[0m\u001b[0mtitle\u001b[0m\u001b[1;33m(\u001b[0m\u001b[1;34m\"elbow method\"\u001b[0m\u001b[1;33m)\u001b[0m\u001b[1;33m\u001b[0m\u001b[1;33m\u001b[0m\u001b[0m\n\u001b[0;32m      3\u001b[0m \u001b[0mplt\u001b[0m\u001b[1;33m.\u001b[0m\u001b[0mxlabel\u001b[0m\u001b[1;33m(\u001b[0m\u001b[1;34m\"Number of clusters\"\u001b[0m\u001b[1;33m)\u001b[0m\u001b[1;33m\u001b[0m\u001b[1;33m\u001b[0m\u001b[0m\n\u001b[1;32m----> 4\u001b[1;33m \u001b[0mplt\u001b[0m\u001b[1;33m.\u001b[0m\u001b[0mylable\u001b[0m\u001b[1;33m(\u001b[0m\u001b[1;34m\"WCSS\"\u001b[0m\u001b[1;33m)\u001b[0m\u001b[1;33m\u001b[0m\u001b[1;33m\u001b[0m\u001b[0m\n\u001b[0m\u001b[0;32m      5\u001b[0m \u001b[0mplt\u001b[0m\u001b[1;33m.\u001b[0m\u001b[0mshow\u001b[0m\u001b[1;33m(\u001b[0m\u001b[1;33m)\u001b[0m\u001b[1;33m\u001b[0m\u001b[1;33m\u001b[0m\u001b[0m\n",
      "\u001b[1;31mAttributeError\u001b[0m: module 'matplotlib.pyplot' has no attribute 'ylable'"
     ]
    },
    {
     "data": {
      "image/png": "[encoded data removed]",
      "text/plain": [
       "<Figure size 432x288 with 1 Axes>"
      ]
     },
     "metadata": {
      "needs_background": "light"
     },
     "output_type": "display_data"
    }
   ],
   "source": [
    "plt.plot(range(1,10),wcss)\n",
    "plt.title(\"elbow method\")\n",
    "plt.xlabel(\"Number of clusters\")\n",
    "plt.ylable(\"WCSS\")\n",
    "plt.show()"
   ]
  },
  {
   "cell_type": "code",
   "execution_count": 48,
   "id": "f273f48d",
   "metadata": {},
   "outputs": [],
   "source": [
    "kmeans = KMeans(n_clusters=5,init= \"k-means++\",random_state = 42)\n",
    "y_kmeans = kmeans.fit_predict(pca_y)"
   ]
  },
  {
   "cell_type": "code",
   "execution_count": 49,
   "id": "5c6803e7",
   "metadata": {},
   "outputs": [
    {
     "name": "stdout",
     "output_type": "stream",
     "text": [
      "1453\n"
     ]
    }
   ],
   "source": [
    "print(len(y_kmeans))\n"
   ]
  },
  {
   "cell_type": "code",
   "execution_count": 50,
   "id": "f6bfe655",
   "metadata": {},
   "outputs": [
    {
     "data": {
      "text/plain": [
       "(1453, 2)"
      ]
     },
     "execution_count": 50,
     "metadata": {},
     "output_type": "execute_result"
    }
   ],
   "source": [
    "pca_y.shape"
   ]
  },
  {
   "cell_type": "code",
   "execution_count": 51,
   "id": "213e1756",
   "metadata": {},
   "outputs": [
    {
     "data": {
      "text/plain": [
       "0.18705739953186326"
      ]
     },
     "execution_count": 51,
     "metadata": {},
     "output_type": "execute_result"
    }
   ],
   "source": [
    "pca_y.iloc[4,0]"
   ]
  },
  {
   "cell_type": "code",
   "execution_count": 52,
   "id": "ab60b15c",
   "metadata": {},
   "outputs": [
    {
     "data": {
      "image/png": "[encoded data removed]",
      "text/plain": [
       "<Figure size 432x288 with 1 Axes>"
      ]
     },
     "metadata": {
      "needs_background": "light"
     },
     "output_type": "display_data"
    }
   ],
   "source": [
    "for i in range(0,1453):\n",
    "    if y_kmeans[i]==0:\n",
    "        plt.scatter(pca_y.iloc[i,0], pca_y.iloc[i,1], s = 100, c = \"grey\", label = 'Cluster 1')\n",
    "for i in range(0,1453):\n",
    "    if y_kmeans[i]==1:\n",
    "        plt.scatter(pca_y.iloc[i,0], pca_y.iloc[i,1], s = 100, c = \"green\", label = 'Cluster 2')\n",
    "        \n",
    "for i in range(0,1453):\n",
    "    if y_kmeans[i]==2:\n",
    "        plt.scatter(pca_y.iloc[i,0], pca_y.iloc[i,1], s = 100, c = \"blue\", label = 'Cluster 3')\n",
    "        \n",
    "for i in range(0,1453):\n",
    "    if y_kmeans[i]==3:\n",
    "        plt.scatter(pca_y.iloc[i,0], pca_y.iloc[i,1], s = 100, c = \"red\", label = 'Cluster 4')\n",
    "        \n",
    "for i in range(0,1453):\n",
    "    if y_kmeans[i]==4:\n",
    "        plt.scatter(pca_y.iloc[i,0], pca_y.iloc[i,1], s = 100, c = \"magenta\", label = 'Cluster 5')\n",
    "        \n",
    "        \n",
    "plt.title('PCA Clusters')\n",
    "plt.xlabel('PC1')\n",
    "plt.ylabel('PC2')\n",
    "#plt.legend()\n",
    "plt.show()"
   ]
  },
  {
   "cell_type": "code",
   "execution_count": 53,
   "id": "b9ca98a9",
   "metadata": {},
   "outputs": [],
   "source": [
    "#USING MIXTURE DISTRIBUTION"
   ]
  },
  {
   "cell_type": "code",
   "execution_count": 54,
   "id": "b4fc9f5d",
   "metadata": {},
   "outputs": [
    {
     "name": "stdout",
     "output_type": "stream",
     "text": [
      "[4 4 2 ... 2 1 3]\n"
     ]
    }
   ],
   "source": [
    "from sklearn.mixture import GaussianMixture\n",
    "\n",
    "gm = GaussianMixture(n_components=5)\n",
    "gm.fit(pca_y)\n",
    "clusters = gm.predict(pca_y)\n",
    "print(clusters)"
   ]
  },
  {
   "cell_type": "code",
   "execution_count": 55,
   "id": "645141d3",
   "metadata": {},
   "outputs": [
    {
     "data": {
      "image/png": "[encoded data removed]",
      "text/plain": [
       "<Figure size 432x288 with 1 Axes>"
      ]
     },
     "metadata": {
      "needs_background": "light"
     },
     "output_type": "display_data"
    }
   ],
   "source": [
    "for i in range(0,1453):\n",
    "    if clusters[i]==0:\n",
    "        plt.scatter(pca_y.iloc[i,0], pca_y.iloc[i,1], s = 100, c = \"grey\", label = 'Cluster 1')\n",
    "for i in range(0,1453):\n",
    "    if clusters[i]==1:\n",
    "        plt.scatter(pca_y.iloc[i,0], pca_y.iloc[i,1], s = 100, c = \"green\", label = 'Cluster 2')\n",
    "        \n",
    "for i in range(0,1453):\n",
    "    if clusters[i]==2:\n",
    "        plt.scatter(pca_y.iloc[i,0], pca_y.iloc[i,1], s = 100, c = \"blue\", label = 'Cluster 3')\n",
    "        \n",
    "for i in range(0,1453):\n",
    "    if clusters[i]==3:\n",
    "        plt.scatter(pca_y.iloc[i,0], pca_y.iloc[i,1], s = 100, c = \"red\", label = 'Cluster 4')\n",
    "        \n",
    "for i in range(0,1453):\n",
    "    if clusters[i]==4:\n",
    "        plt.scatter(pca_y.iloc[i,0], pca_y.iloc[i,1], s = 100, c = \"magenta\", label = 'Cluster 5')\n",
    "        \n",
    "        \n",
    "plt.title('PCA Clusters')\n",
    "plt.xlabel('PC1')\n",
    "plt.ylabel('PC2')\n",
    "#plt.legend()\n",
    "plt.show()"
   ]
  },
  {
   "cell_type": "code",
   "execution_count": null,
   "id": "05f7250f",
   "metadata": {},
   "outputs": [],
   "source": [
    "#PROFILING SEGMENTS"
   ]
  },
  {
   "cell_type": "code",
   "execution_count": 56,
   "id": "73d3fa1d",
   "metadata": {},
   "outputs": [],
   "source": [
    "k = mc_dataset.iloc[:,11:13]"
   ]
  },
  {
   "cell_type": "code",
   "execution_count": 57,
   "id": "ebfb3665",
   "metadata": {},
   "outputs": [],
   "source": [
    "for i in range(1,1453):\n",
    "    if k.iloc[i,0]==\"I hate it!-5\":\n",
    "        k.iloc[i,0] = -5\n",
    "        \n",
    "    elif k.iloc[i,0]==\"I love it!+5\":\n",
    "        k.iloc[i,0] = 5"
   ]
  },
  {
   "cell_type": "code",
   "execution_count": 58,
   "id": "01364a56",
   "metadata": {},
   "outputs": [],
   "source": [
    "from sklearn.preprocessing import StandardScaler\n",
    "sc = StandardScaler()\n",
    "k = sc.fit_transform(k)"
   ]
  },
  {
   "cell_type": "code",
   "execution_count": null,
   "id": "e964e7af",
   "metadata": {},
   "outputs": [],
   "source": [
    "#USING K-MEANS"
   ]
  },
  {
   "cell_type": "code",
   "execution_count": 61,
   "id": "28db25aa",
   "metadata": {},
   "outputs": [
    {
     "name": "stderr",
     "output_type": "stream",
     "text": [
      "C:\\Users\\Lenovo\\anaconda3\\lib\\site-packages\\sklearn\\cluster\\_kmeans.py:881: UserWarning: KMeans is known to have a memory leak on Windows with MKL, when there are less chunks than available threads. You can avoid it by setting the environment variable OMP_NUM_THREADS=6.\n",
      "  warnings.warn(\n"
     ]
    }
   ],
   "source": [
    "wcss2 = []\n",
    "\n",
    "for i in range(1,10):\n",
    "    \n",
    "    kmeans = KMeans(n_clusters = i, init =\"k-means++\",random_state = 42)\n",
    "    kmeans.fit(pca_y)\n",
    "    \n",
    "    wcss2.append(kmeans.inertia_)"
   ]
  },
  {
   "cell_type": "code",
   "execution_count": 62,
   "id": "a1058e91",
   "metadata": {},
   "outputs": [
    {
     "ename": "AttributeError",
     "evalue": "module 'matplotlib.pyplot' has no attribute 'ylable'",
     "output_type": "error",
     "traceback": [
      "\u001b[1;31m---------------------------------------------------------------------------\u001b[0m",
      "\u001b[1;31mAttributeError\u001b[0m                            Traceback (most recent call last)",
      "\u001b[1;32m<ipython-input-62-06ccc456907a>\u001b[0m in \u001b[0;36m<module>\u001b[1;34m\u001b[0m\n\u001b[0;32m      2\u001b[0m \u001b[0mplt\u001b[0m\u001b[1;33m.\u001b[0m\u001b[0mtitle\u001b[0m\u001b[1;33m(\u001b[0m\u001b[1;34m\"elbow method\"\u001b[0m\u001b[1;33m)\u001b[0m\u001b[1;33m\u001b[0m\u001b[1;33m\u001b[0m\u001b[0m\n\u001b[0;32m      3\u001b[0m \u001b[0mplt\u001b[0m\u001b[1;33m.\u001b[0m\u001b[0mxlabel\u001b[0m\u001b[1;33m(\u001b[0m\u001b[1;34m\"Number of clusters\"\u001b[0m\u001b[1;33m)\u001b[0m\u001b[1;33m\u001b[0m\u001b[1;33m\u001b[0m\u001b[0m\n\u001b[1;32m----> 4\u001b[1;33m \u001b[0mplt\u001b[0m\u001b[1;33m.\u001b[0m\u001b[0mylable\u001b[0m\u001b[1;33m(\u001b[0m\u001b[1;34m\"WCSS\"\u001b[0m\u001b[1;33m)\u001b[0m\u001b[1;33m\u001b[0m\u001b[1;33m\u001b[0m\u001b[0m\n\u001b[0m\u001b[0;32m      5\u001b[0m \u001b[0mplt\u001b[0m\u001b[1;33m.\u001b[0m\u001b[0mshow\u001b[0m\u001b[1;33m(\u001b[0m\u001b[1;33m)\u001b[0m\u001b[1;33m\u001b[0m\u001b[1;33m\u001b[0m\u001b[0m\n",
      "\u001b[1;31mAttributeError\u001b[0m: module 'matplotlib.pyplot' has no attribute 'ylable'"
     ]
    },
    {
     "data": {
      "image/png": "[encoded data removed]",
      "text/plain": [
       "<Figure size 432x288 with 1 Axes>"
      ]
     },
     "metadata": {
      "needs_background": "light"
     },
     "output_type": "display_data"
    }
   ],
   "source": [
    "plt.plot(range(1,10),wcss2)\n",
    "plt.title(\"elbow method\")\n",
    "plt.xlabel(\"Number of clusters\")\n",
    "plt.ylable(\"WCSS\")\n",
    "plt.show()"
   ]
  },
  {
   "cell_type": "code",
   "execution_count": 63,
   "id": "9f271b82",
   "metadata": {},
   "outputs": [],
   "source": [
    "kmeans = KMeans(n_clusters=4,init= \"k-means++\",random_state = 42)\n",
    "k_kmeans = kmeans.fit_predict(k)"
   ]
  },
  {
   "cell_type": "code",
   "execution_count": 64,
   "id": "618b46eb",
   "metadata": {},
   "outputs": [],
   "source": [
    "k_real = sc.inverse_transform(k)\n",
    "k = pd.DataFrame(k_real)"
   ]
  },
  {
   "cell_type": "code",
   "execution_count": 65,
   "id": "b515ef2e",
   "metadata": {},
   "outputs": [
    {
     "data": {
      "image/png": "[encoded data removed]",
      "text/plain": [
       "<Figure size 432x288 with 1 Axes>"
      ]
     },
     "metadata": {
      "needs_background": "light"
     },
     "output_type": "display_data"
    }
   ],
   "source": [
    "for i in range(0,1453):\n",
    "    if k_kmeans[i]==0:\n",
    "        plt.scatter(k.iloc[i,0], k.iloc[i,1], s = 100, c = \"grey\", label = 'Cluster 1')\n",
    "for i in range(0,1453):\n",
    "    if k_kmeans[i]==1:\n",
    "        plt.scatter(k.iloc[i,0], k.iloc[i,1], s = 100, c = \"green\", label = 'Cluster 2')\n",
    "        \n",
    "for i in range(0,1453):\n",
    "    if k_kmeans[i]==2:\n",
    "        plt.scatter(k.iloc[i,0], k.iloc[i,1], s = 100, c = \"blue\", label = 'Cluster 3')\n",
    "        \n",
    "for i in range(0,1453):\n",
    "    if k_kmeans[i]==3:\n",
    "        plt.scatter(k.iloc[i,0], k.iloc[i,1], s = 100, c = \"red\", label = 'Cluster 4')\n",
    "        \n",
    "plt.title('Clusters')\n",
    "plt.xlabel('like')\n",
    "plt.ylabel('age')\n",
    "#plt.legend()\n",
    "plt.show()"
   ]
  },
  {
   "cell_type": "code",
   "execution_count": 66,
   "id": "11f41d89",
   "metadata": {},
   "outputs": [],
   "source": [
    "#USING GaussianMixture"
   ]
  },
  {
   "cell_type": "code",
   "execution_count": 73,
   "id": "8e221211",
   "metadata": {},
   "outputs": [
    {
     "name": "stdout",
     "output_type": "stream",
     "text": [
      "[0 3 3 ... 3 1 0]\n"
     ]
    }
   ],
   "source": [
    "from sklearn.mixture import GaussianMixture\n",
    "\n",
    "gm = GaussianMixture(n_components=4)\n",
    "gm.fit(pca_y)\n",
    "clusters = gm.predict(pca_y)\n",
    "print(clusters)"
   ]
  },
  {
   "cell_type": "code",
   "execution_count": 74,
   "id": "a11e7414",
   "metadata": {},
   "outputs": [
    {
     "data": {
      "image/png": "[encoded data removed]",
      "text/plain": [
       "<Figure size 432x288 with 1 Axes>"
      ]
     },
     "metadata": {
      "needs_background": "light"
     },
     "output_type": "display_data"
    }
   ],
   "source": [
    "for i in range(0,1453):\n",
    "    if clusters[i]==0:\n",
    "        plt.scatter(k.iloc[i,0], k.iloc[i,1], s = 10, c = \"grey\", label = 'Cluster 1')\n",
    "for i in range(0,1453):\n",
    "    if clusters[i]==1:\n",
    "        plt.scatter(k.iloc[i,0], k.iloc[i,1], s = 10, c = \"green\", label = 'Cluster 2')\n",
    "        \n",
    "for i in range(0,1453):\n",
    "    if clusters[i]==2:\n",
    "        plt.scatter(k.iloc[i,0], k.iloc[i,1], s = 10, c = \"blue\", label = 'Cluster 3')\n",
    "        \n",
    "for i in range(0,1453):\n",
    "    if clusters[i]==3:\n",
    "        plt.scatter(k.iloc[i,0], k.iloc[i,1], s = 10, c = \"red\", label = 'Cluster 4')\n",
    "        \n",
    "plt.title('Clusters')\n",
    "plt.xlabel('like')\n",
    "plt.ylabel('age')\n",
    "#plt.legend()\n",
    "plt.show()"
   ]
  },
  {
   "cell_type": "code",
   "execution_count": null,
   "id": "c6c6ba10",
   "metadata": {},
   "outputs": [],
   "source": []
  }
 ],
 "metadata": {
  "kernelspec": {
   "display_name": "Python 3",
   "language": "python",
   "name": "python3"
  },
  "language_info": {
   "codemirror_mode": {
    "name": "ipython",
    "version": 3
   },
   "file_extension": ".py",
   "mimetype": "text/x-python",
   "name": "python",
   "nbconvert_exporter": "python",
   "pygments_lexer": "ipython3",
   "version": "3.8.8"
  }
 },
 "nbformat": 4,
 "nbformat_minor": 5
}
